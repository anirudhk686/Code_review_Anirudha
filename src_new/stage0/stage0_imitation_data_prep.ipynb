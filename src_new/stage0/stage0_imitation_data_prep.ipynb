{
 "cells": [
  {
   "cell_type": "code",
   "execution_count": 2,
   "id": "a10f1e4c-a0d0-4165-84c0-e8bba88ee4e7",
   "metadata": {},
   "outputs": [
    {
     "name": "stderr",
     "output_type": "stream",
     "text": [
      "/home/anirudh/anaconda3/envs/dmc/lib/python3.9/site-packages/pygame/pkgdata.py:25: DeprecationWarning: pkg_resources is deprecated as an API. See https://setuptools.pypa.io/en/latest/pkg_resources.html\n",
      "  from pkg_resources import resource_stream, resource_exists\n"
     ]
    },
    {
     "name": "stdout",
     "output_type": "stream",
     "text": [
      "pygame 2.5.2 (SDL 2.28.2, Python 3.9.18)\n",
      "Hello from the pygame community. https://www.pygame.org/contribute.html\n"
     ]
    },
    {
     "name": "stderr",
     "output_type": "stream",
     "text": [
      "/home/anirudh/anaconda3/envs/dmc/lib/python3.9/site-packages/matplotlib_inline/config.py:68: DeprecationWarning: InlineBackend._figure_format_changed is deprecated in traitlets 4.1: use @observe and @unobserve instead.\n",
      "  def _figure_format_changed(self, name, old, new):\n"
     ]
    }
   ],
   "source": [
    "import os\n",
    "os.environ['MUJOCO_GL'] = 'egl'\n",
    "os.environ[\"MUJOCO_EGL_DEVICE_ID\"] = \"0\"\n",
    "from typing import Sequence, List, Any, NamedTuple, Tuple, Optional\n",
    "from collections import namedtuple\n",
    "\n",
    "import sys\n",
    "from os.path import dirname, abspath\n",
    "project_folder = dirname(dirname(abspath(\"rodent.py\")))\n",
    "sys.path.insert(1, project_folder)\n",
    "\n",
    "# The basic mujoco wrapper.\n",
    "from dm_control import mujoco\n",
    "\n",
    "# Access to enums and MuJoCo library functions.\n",
    "from dm_control.mujoco.wrapper.mjbindings import enums\n",
    "from dm_control.mujoco.wrapper.mjbindings import mjlib\n",
    "\n",
    "# PyMJCF\n",
    "from dm_control import mjcf\n",
    "\n",
    "\n",
    "from stage1_rodent_task import rodent_env,_CONTROL_TIMESTEP,SITE_NAMES\n",
    "\n",
    "import pandas as pd\n",
    "import argparse\n",
    "import random\n",
    "import time\n",
    "from distutils.util import strtobool\n",
    "import gymnasium as gym\n",
    "import numpy as np\n",
    "\n",
    "import argparse\n",
    "import os\n",
    "import random\n",
    "import time\n",
    "from distutils.util import strtobool\n",
    "import gymnasium as gym\n",
    "import numpy as np\n",
    "\n",
    "\n",
    "import moviepy.video.io.ImageSequenceClip\n",
    "import gymnasium as gym\n",
    "\n",
    "from matplotlib import pyplot as plt\n",
    "import numpy as np\n",
    "import csv\n",
    "\n",
    "\n",
    "#@title Other imports and helper functions\n",
    "\n",
    "# General\n",
    "import copy\n",
    "import os\n",
    "import itertools\n",
    "from IPython.display import clear_output\n",
    "import numpy as np\n",
    "\n",
    "# Graphics-related\n",
    "import matplotlib\n",
    "import matplotlib.animation as animation\n",
    "import matplotlib.pyplot as plt\n",
    "from IPython.display import HTML\n",
    "\n",
    "\n",
    "\n",
    "# Use svg backend for figure rendering\n",
    "%config InlineBackend.figure_format = 'svg'\n",
    "%matplotlib inline\n",
    "\n",
    "import PIL.Image\n",
    "from inverse_kinematics import qpos_from_site_xpos\n",
    "import quaternions\n",
    "import pickle \n",
    "from ipywidgets import Video\n",
    "\n",
    "\n"
   ]
  },
  {
   "cell_type": "code",
   "execution_count": 3,
   "id": "8a7f0669",
   "metadata": {},
   "outputs": [],
   "source": [
    "dataset_num = 2\n",
    "dataset_folder  = project_folder + '/dataset/' + str(dataset_num) + '/'\n",
    "local_dataset_folder = '/home/anirudh/p6/dataset/' + str(dataset_num) + '/'\n",
    "il_frames_save_folder = local_dataset_folder + 'il_frames/'\n",
    "increase_freq = 1\n",
    "initial_repeat = 0"
   ]
  },
  {
   "cell_type": "code",
   "execution_count": 4,
   "id": "26be0142",
   "metadata": {},
   "outputs": [],
   "source": [
    "\n",
    "\n",
    "label_file =  dataset_folder+\"data3D.csv\"\n",
    "output_new_clip_end_file_path = dataset_folder+\"lengths.npy\"\n",
    "site_index_to_delete = [9,13]\n",
    "frame_start_stop_path_csv = dataset_folder + 'clip_frames.csv'\n",
    "start_end_clip_csv = np.loadtxt(frame_start_stop_path_csv, delimiter=',', dtype='int64', skiprows=1)\n",
    "nclips = start_end_clip_csv.shape[0]*2\n",
    "\n"
   ]
  },
  {
   "cell_type": "code",
   "execution_count": 5,
   "id": "ea2c84a3",
   "metadata": {},
   "outputs": [
    {
     "name": "stdout",
     "output_type": "stream",
     "text": [
      "(19366, 18, 3) this has training data + mirror data\n"
     ]
    }
   ],
   "source": [
    "def swapLR(idx,array):\n",
    "    t = np.array(array,copy=True)\n",
    "    array[:,idx[0],:] = array[:,idx[1],:]\n",
    "    array[:,idx[1],:] = t[:,idx[0],:]\n",
    "    return array\n",
    "\n",
    "def csv_reader_jarvis3d(file_name, num_keypoints):\n",
    "    \"\"\"\n",
    "    Return keypoints as numpy array [frames, num_keypoints, 3]\n",
    "    \"\"\"\n",
    "    all_keypoints = []\n",
    "    with open(file_name) as csv_file:\n",
    "        csv_reader = csv.reader(csv_file, delimiter=',')\n",
    "        line_count = 0\n",
    "        for row in csv_reader:\n",
    "            if line_count == 0 or line_count == 1:\n",
    "                #print(f'{\", \".join(row)}')\n",
    "                line_count += 1\n",
    "            else:\n",
    "                keypoints = [float(x) for x in row]\n",
    "                keypoints = np.asarray(keypoints)\n",
    "                keypoints = keypoints.reshape([num_keypoints, 4])[:,:3]\n",
    "                keypoints = np.delete(keypoints,site_index_to_delete,0)\n",
    "                all_keypoints.append(keypoints)\n",
    "                line_count += 1\n",
    "    all_keypoints = np.asarray(all_keypoints)\n",
    "    return all_keypoints\n",
    "\n",
    "keypoints = csv_reader_jarvis3d(label_file, 20)\n",
    "\n",
    "\n",
    "new_keypoints = np.zeros(keypoints.shape)\n",
    "for frames in range(keypoints.shape[0]):\n",
    "    for keypoint_sites in range(keypoints.shape[1]):\n",
    "        original_kp = keypoints[frames][keypoint_sites]\n",
    "        new_x = (original_kp[0]/1000)*(-1)*(1)\n",
    "        new_y = (original_kp[1]/1000)*(-1)*(1)\n",
    "        new_z = (original_kp[2]/1000)*(1)*(1)\n",
    "        new_keypoints[frames][keypoint_sites] = [new_x,new_y,new_z]\n",
    "\n",
    "filtered_keypoints = np.zeros((0,new_keypoints.shape[1],new_keypoints.shape[2]))\n",
    "for i in range(start_end_clip_csv.shape[0]):\n",
    "    start_frame = start_end_clip_csv[i][0]\n",
    "    end_frame = start_end_clip_csv[i][1]\n",
    "    temp = new_keypoints[start_frame:end_frame]\n",
    "    filtered_keypoints = np.concatenate((filtered_keypoints,temp))\n",
    "new_keypoints = filtered_keypoints\n",
    "\n",
    "\n",
    "    \n",
    "\n",
    "mirror = np.array(new_keypoints, copy=True)  \n",
    "mirror[:,:,1] = mirror[:,:,1] *-1\n",
    "mirror = swapLR((1,2),mirror)\n",
    "mirror = swapLR((6,9),mirror)\n",
    "mirror = swapLR((7,10),mirror)\n",
    "mirror = swapLR((8,11),mirror)\n",
    "mirror = swapLR((12,15),mirror)\n",
    "mirror = swapLR((13,16),mirror)\n",
    "mirror = swapLR((14,17),mirror)\n",
    "\n",
    "training_data = np.concatenate((new_keypoints,mirror))\n",
    "print(training_data.shape, \"this has training data + mirror data\") \n",
    "\n",
    "\n",
    "\n"
   ]
  },
  {
   "cell_type": "code",
   "execution_count": null,
   "id": "7ba33d33",
   "metadata": {},
   "outputs": [],
   "source": [
    "\n",
    "clip_lengths = start_end_clip_csv[:,1] - start_end_clip_csv[:,0]\n",
    "clip_lengths = np.concatenate((clip_lengths,clip_lengths)) # for mirror data\n",
    "clip_ends = []\n",
    "sum_temp = 0\n",
    "for i in clip_lengths:\n",
    "    sum_temp+=i\n",
    "    clip_ends.append(sum_temp)\n",
    "clip_ends = np.array(clip_ends)\n",
    "clip_lengths_and_ends = np.concatenate(([clip_lengths],[clip_ends]),axis=0).T \n",
    "print(clip_lengths_and_ends.shape, \"this has clip lengths(column 0) and clip end index(column 1)\")\n",
    "assert training_data.shape[0] == clip_lengths_and_ends[-1][1], \"training data and clip ends do not match\"\n"
   ]
  },
  {
   "cell_type": "code",
   "execution_count": null,
   "id": "ee6301e1",
   "metadata": {},
   "outputs": [],
   "source": [
    "clip_arrays = np.split(training_data, np.cumsum(clip_lengths_and_ends[:,0])[:-1])"
   ]
  },
  {
   "cell_type": "code",
   "execution_count": null,
   "id": "1bfae0cd",
   "metadata": {},
   "outputs": [],
   "source": [
    "len(clip_arrays)"
   ]
  },
  {
   "cell_type": "code",
   "execution_count": null,
   "id": "6113909c",
   "metadata": {},
   "outputs": [],
   "source": [
    "all_new_clips = []\n",
    "all_new_clip_lengths = []\n",
    "for k in range(nclips):\n",
    "    temp_clip = clip_arrays[k]\n",
    "    all_sites_hf_clips = []\n",
    "    for site in range(temp_clip.shape[1]):\n",
    "        site_clip = temp_clip[:,site,:]\n",
    "        higher_freq_clip = np.empty((0,3))\n",
    "        for i in range(site_clip.shape[0]-1):\n",
    "            higher_freq_clip = np.concatenate((higher_freq_clip,np.linspace(site_clip[i],site_clip[i+1],increase_freq,endpoint=False)),axis=0)\n",
    "        higher_freq_clip = np.concatenate((higher_freq_clip,site_clip[-1].reshape(1,3)),axis=0)\n",
    "        higher_freq_clip = np.expand_dims(higher_freq_clip,axis=1)\n",
    "        all_sites_hf_clips.append(higher_freq_clip)\n",
    "    all_sites_hf_clips = np.concatenate(all_sites_hf_clips,axis=1)\n",
    "    for repeat in range(initial_repeat):\n",
    "        all_sites_hf_clips = np.concatenate(([all_sites_hf_clips[0]],all_sites_hf_clips),axis=0)\n",
    "    all_new_clip_lengths.append(all_sites_hf_clips.shape[0])\n",
    "    all_new_clips.append(all_sites_hf_clips)\n",
    "all_new_clips = np.concatenate(all_new_clips,axis=0)\n",
    "print(all_new_clips.shape, \"this has all the training data with increased frequency\")\n",
    "\n",
    "final_shape = 0\n",
    "for old_cliplen in clip_lengths_and_ends[:nclips,0]:\n",
    "    final_shape+=(old_cliplen-1)*increase_freq + 1+ initial_repeat\n",
    "\n",
    "assert sum(all_new_clip_lengths) == final_shape , \"error\""
   ]
  },
  {
   "cell_type": "code",
   "execution_count": null,
   "id": "4774fefb",
   "metadata": {},
   "outputs": [],
   "source": [
    "sum_temp = 0\n",
    "new_clip_ends = []\n",
    "for i in all_new_clip_lengths:\n",
    "    sum_temp+=i\n",
    "    new_clip_ends.append(sum_temp)\n",
    "new_clip_ends = np.array(new_clip_ends)\n",
    "new_clip_lengths_ends = np.concatenate(([all_new_clip_lengths],[new_clip_ends]),axis=0).T\n",
    "print(new_clip_lengths_ends.shape, \"this has all new clip lengths(column 0) and clip end index(column 1)\")    \n",
    "np.save(output_new_clip_end_file_path,new_clip_lengths_ends)\n"
   ]
  },
  {
   "cell_type": "code",
   "execution_count": 4,
   "id": "a83535b3",
   "metadata": {},
   "outputs": [
    {
     "data": {
      "image/jpeg": "[encoded data removed]",
      "image/png": "[encoded data removed]",
      "text/plain": [
       "<PIL.Image.Image image mode=RGB size=320x240>"
      ]
     },
     "execution_count": 4,
     "metadata": {},
     "output_type": "execute_result"
    }
   ],
   "source": [
    "env = rodent_env(add_ghost=False,add_ball=False,)\n",
    "env.reset()\n",
    "PIL.Image.fromarray(env.physics.render(camera_id=7))\n"
   ]
  },
  {
   "cell_type": "code",
   "execution_count": null,
   "id": "e7d3b54d",
   "metadata": {},
   "outputs": [],
   "source": [
    "# This namedtuple must be created outside of the function\n",
    "# `get_full_data_from_ik_frame` to be picklable.\n",
    "TimestepData = namedtuple(\n",
    "    'TimestepData', ['qpos', 'qvel', 'root2site',\n",
    "                     'joint_quat', 'site_xpos', 'xvel'])\n",
    "\n",
    "joint_names = [env.physics.model.id2name(j, 'joint')\n",
    "                         for j in range(env.physics.model.njnt)]\n",
    "\n",
    "site_names  =  SITE_NAMES\n",
    "inverse_kinemtics_site_names = site_names.copy()\n",
    "site_index_to_delete.sort(reverse=True)\n",
    "for index in site_index_to_delete:\n",
    "    del inverse_kinemtics_site_names[index]\n",
    "    "
   ]
  },
  {
   "cell_type": "code",
   "execution_count": null,
   "id": "729980bf",
   "metadata": {},
   "outputs": [],
   "source": [
    "def get_full_data_from_ik_frame(\n",
    "        physics: 'mjcf.Physics',\n",
    "        qpos_prev: Optional[np.ndarray] = None,\n",
    "        site_xpos_prev: Optional[np.ndarray] = None,\n",
    "        dt: Optional[float] = None,\n",
    "        walker: str = 'walker/',\n",
    "        ) -> NamedTuple:\n",
    "    \"\"\"Uses partial IK state information to generate all data needed\n",
    "    for imitation learning training.\n",
    "\n",
    "    Everything (except root qpos, root qvel, root quat) is calculated\n",
    "    in local egocentric reference frame (NOT world reference frame).\n",
    "\n",
    "    To calculate the returned values, the following quantities from\n",
    "    `physics.data` are used: qpos, xpos, xquat, site_xpos, xaxis.\n",
    "\n",
    "    Requires the following namedtuple (must be created outside this function\n",
    "    so it can be picklable):\n",
    "    TimestepData = namedtuple(\n",
    "        'TimestepData',\n",
    "        ['qpos', 'qvel', 'root2site', 'joint_quat', 'site_xpos', 'xvel'])\n",
    "\n",
    "    Args:\n",
    "        physics: Instance of mjcf.Physics class.\n",
    "        qpos_prev: `qpos` from previous timestep to use in finite differences.\n",
    "            Not used in the first timestep and an array of zeros is returned\n",
    "            for `qvel`.\n",
    "        site_xpos_prev: `site_xpos` from previous timestep. Not used in the\n",
    "            first timestep and an array of zeros is returned for `xvel`.\n",
    "        dt: Time interval to use for finite difference calculation.\n",
    "            Should match the timestep of the underlying IK qpos data.\n",
    "            Not used in the first timestep.\n",
    "        walker: Name of walker in physics.data.\n",
    "\n",
    "    Returns:\n",
    "        qpos: Joint angles, (nq,).\n",
    "        qvel: Joint angle velocities, (nv,).\n",
    "            NOTE: nq is not necessarily equal nv. In general, nq >= nv.\n",
    "        root2site: Egocentric root-to-site vectors for all sites, (nsite, 3).\n",
    "        joint_quat: Joint orientation quaternions, skipping the root joint,\n",
    "            shape (njnt-1, 3). The root joint quaternion is included\n",
    "            automatically in qpos[3:7].\n",
    "        site_xpos: Cartesian positions of all sites in local frame (nsite, 3).\n",
    "        xvel: Cartesian velocity for all sites in local frame (nsite, 3).\n",
    "    \"\"\"\n",
    "    # Current qpos.\n",
    "    qpos = physics.data.qpos.copy()\n",
    "\n",
    "    # All qvel (if `qpos_prev` is provided).\n",
    "    qvel = np.zeros(physics.model.nv)\n",
    "    if qpos_prev is not None:\n",
    "        mjlib.mj_differentiatePos(\n",
    "            physics.model.ptr, qvel,\n",
    "            dt, qpos_prev, qpos)  # Finite diffs.\n",
    "\n",
    "    # Egocentric root-to-site vectors for all sites in local coordinates.\n",
    "    root_xpos = physics.named.data.xpos[walker].copy()\n",
    "    root_quat = physics.named.data.xquat[walker].copy()\n",
    "    site_xpos = physics.named.data.site_xpos[site_names].copy()\n",
    "    root2site = quaternions.get_egocentric_vec(\n",
    "                    root_xpos, site_xpos, root_quat).copy()\n",
    "\n",
    "    # Joint orientation quaternions in local egocentric\n",
    "    # reference frame (NOT world frame).\n",
    "    xaxis1 = physics.data.xaxis[1:].copy()  # (njnt-1, 3)\n",
    "    xaxis1 = quaternions.rotate_vec_with_quat(\n",
    "        xaxis1, quaternions.reciprocal_quat(root_quat))\n",
    "    qpos7 = physics.data.qpos[7:].copy()  # (njnt-1,)\n",
    "    joint_quat = quaternions.joint_orientation_quat(xaxis1, qpos7).copy()  # (njnt-1, 4)\n",
    "\n",
    "    # Cartesian site positions in local egocentric\n",
    "    # reference frame (NOT world frame).\n",
    "    site_xpos = physics.named.data.site_xpos[site_names].copy()  # (n_sites, 3)\n",
    "    #site_xpos[:, :] -= root_xpos[None, :]\n",
    "    #site_xpos = quaternions.rotate_vec_with_quat(site_xpos, quaternions.reciprocal_quat(root_quat))\n",
    "\n",
    "    # Cartesian velocities xvel in local egocentric\n",
    "    # reference frame (NOT world frame) for all sites.\n",
    "    if site_xpos_prev is not None:\n",
    "        xvel = (site_xpos - site_xpos_prev) / dt\n",
    "    else:\n",
    "        xvel = np.zeros((site_xpos.shape[0], 3))\n",
    "\n",
    "    return TimestepData(qpos, qvel, root2site, joint_quat, site_xpos, xvel)\n"
   ]
  },
  {
   "cell_type": "code",
   "execution_count": null,
   "id": "e17ec4f8",
   "metadata": {},
   "outputs": [],
   "source": [
    "len(all_new_clips)"
   ]
  },
  {
   "cell_type": "code",
   "execution_count": null,
   "id": "98fd8d30",
   "metadata": {},
   "outputs": [],
   "source": [
    "nq = env.physics.model.nq\n",
    "nv = env.physics.model.nv\n",
    "nsite = 20\n",
    "njnt = env.physics.model.njnt\n",
    "full_data = []\n",
    "\n",
    "clip_id = 0\n",
    "env.reset()\n",
    "first_frame_of_clip = True\n",
    "\n",
    "for f in range(len(all_new_clips)):\n",
    "\n",
    "    if f==new_clip_lengths_ends[clip_id][1]:\n",
    "        first_frame_of_clip = True\n",
    "        clip_id+=1\n",
    "\n",
    "\n",
    "    if first_frame_of_clip:\n",
    "        env.reset()\n",
    "\n",
    "    ikres_frame = qpos_from_site_xpos(physics=env.physics,\n",
    "                                            site_names=inverse_kinemtics_site_names,\n",
    "                                            target_xpos=all_new_clips[f],\n",
    "                                            joint_names=joint_names,\n",
    "                                            reg_strength=1e-4,\n",
    "                                            inplace=True)  \n",
    "    print(f,ikres_frame.success)\n",
    "\n",
    "    if first_frame_of_clip:\n",
    "        ik_data_extract = get_full_data_from_ik_frame(env.physics)\n",
    "    else:\n",
    "        ik_data_extract  = get_full_data_from_ik_frame(\n",
    "            env.physics,\n",
    "            qpos_prev=full_data[-1].qpos,\n",
    "            site_xpos_prev=full_data[-1].site_xpos,\n",
    "            dt=_CONTROL_TIMESTEP)\n",
    "        \n",
    "\n",
    "    full_data.append(ik_data_extract)\n",
    "\n",
    "    #img = PIL.Image.fromarray(env.physics.render(camera_id=4,height=2200,width=3208))\n",
    "    #img.save(il_frames_save_folder+str(f)+'.png')\n",
    "\n",
    "    first_frame_of_clip = False"
   ]
  },
  {
   "cell_type": "code",
   "execution_count": null,
   "id": "29503064",
   "metadata": {},
   "outputs": [],
   "source": [
    "# === Parse full_data.\n",
    "n_frames = len(full_data)\n",
    "\n",
    "qpos = np.zeros((n_frames, nq))\n",
    "qvel = np.zeros((n_frames, nv))\n",
    "root2site = np.zeros((n_frames, nsite, 3))\n",
    "joint_quat = np.zeros((n_frames, njnt-1, 4))\n",
    "site_xpos = np.zeros((n_frames, nsite, 3))\n",
    "xvel = np.zeros((n_frames, nsite, 3))\n",
    "\n",
    "for i in range(len(full_data)):\n",
    "    qpos[i, :] = full_data[i].qpos\n",
    "    qvel[i, :] = full_data[i].qvel\n",
    "    root2site[i, :, :] = full_data[i].root2site\n",
    "    joint_quat[i, :, :] = full_data[i].joint_quat\n",
    "    site_xpos[i, :, :] = full_data[i].site_xpos\n",
    "    xvel[i, :, :] = full_data[i].xvel\n",
    "\n",
    "snippet_full_data = {\n",
    "        'qpos': qpos.astype(np.float32),  # (n_frames, nq)\n",
    "        'qvel': qvel.astype(np.float32),  # (n_frames, nv)\n",
    "        'root2site': root2site.astype(np.float32),  # (n_frames, nsite, 3)\n",
    "        'joint_quat': joint_quat.astype(np.float32),  # (n_frames, njnt-1, 4)\n",
    "        'site_xpos': site_xpos.astype(np.float32),  # (n_frames, nsite, 3)\n",
    "        'xvel': xvel.astype(np.float32),  # (n_frames, nsite, 3)\n",
    "    }\n",
    "\n",
    "with open(dataset_folder+'imitation_train_data.pkl', 'wb') as f:\n",
    "    pickle.dump(snippet_full_data, f)"
   ]
  },
  {
   "cell_type": "code",
   "execution_count": null,
   "id": "df114fe0",
   "metadata": {},
   "outputs": [],
   "source": []
  },
  {
   "cell_type": "code",
   "execution_count": null,
   "id": "d05d57ba",
   "metadata": {},
   "outputs": [],
   "source": [
    "env.reset()\n",
    "frames = []\n",
    "with open(dataset_folder+'imitation_train_data.pkl', 'rb') as f:\n",
    "\ttest_data = pickle.load(f)\n",
    "qpos_data = test_data['qpos']"
   ]
  },
  {
   "cell_type": "code",
   "execution_count": null,
   "id": "368628bc",
   "metadata": {},
   "outputs": [],
   "source": []
  },
  {
   "cell_type": "code",
   "execution_count": 5,
   "id": "be99991d",
   "metadata": {},
   "outputs": [],
   "source": [
    "\n",
    "env.reset()\n",
    "frames = []\n",
    "with open(dataset_folder+'imitation_train_data.pkl', 'rb') as f:\n",
    "\ttest_data = pickle.load(f)\n",
    "qpos_data = test_data['qpos']\n",
    "env.reset()    \n",
    "\n",
    "for i in range(qpos_data.shape[0]):\n",
    "    with env.physics.reset_context():\n",
    "        env.physics.data.qpos = qpos_data[i].copy()\n",
    "\n",
    "\n",
    "    img =  env.physics.render(camera_id=7,height=1000,width=1500)\n",
    "    frames.append(img)\n",
    "\n",
    "    #img = PIL.Image.fromarray(env.physics.render(camera_id=3,height=220,width=320,scene_option=scene_option))\n",
    "    #img.save('../il_data_frames/'+str(i)+'.png')\n"
   ]
  },
  {
   "cell_type": "code",
   "execution_count": 8,
   "id": "42575708",
   "metadata": {},
   "outputs": [
    {
     "name": "stdout",
     "output_type": "stream",
     "text": [
      "Moviepy - Building video /home/anirudh/p6/dataset/2/ik.mp4.\n",
      "Moviepy - Writing video /home/anirudh/p6/dataset/2/ik.mp4\n",
      "\n"
     ]
    },
    {
     "name": "stderr",
     "output_type": "stream",
     "text": [
      "                                                                  \r"
     ]
    },
    {
     "name": "stdout",
     "output_type": "stream",
     "text": [
      "Moviepy - Done !\n",
      "Moviepy - video ready /home/anirudh/p6/dataset/2/ik.mp4\n"
     ]
    },
    {
     "data": {
      "application/vnd.jupyter.widget-view+json": {
       "model_id": "5f7ea30551b34a5eaef3bfc8fadda39f",
       "version_major": 2,
       "version_minor": 0
      },
      "text/plain": [
       "Video(value=b'\\x00\\x00\\x00 ftypisom\\x00\\x00\\x02\\x00isomiso2avc1mp41\\x00\\x00\\x00\\x08free...', height='1500', wi…"
      ]
     },
     "execution_count": 8,
     "metadata": {},
     "output_type": "execute_result"
    }
   ],
   "source": [
    "clip = moviepy.video.io.ImageSequenceClip.ImageSequenceClip(frames, fps=50)\n",
    "clip.write_videofile(local_dataset_folder+'ik.mp4')\n",
    "Video.from_file(local_dataset_folder+'ik.mp4', width=1000, height=1500)"
   ]
  },
  {
   "cell_type": "code",
   "execution_count": null,
   "id": "10a15c42",
   "metadata": {},
   "outputs": [],
   "source": []
  },
  {
   "cell_type": "code",
   "execution_count": null,
   "id": "adb3eace",
   "metadata": {},
   "outputs": [],
   "source": []
  },
  {
   "cell_type": "code",
   "execution_count": null,
   "id": "8390b56d",
   "metadata": {},
   "outputs": [],
   "source": [
    "new_clip_lengths_ends = np.load(output_new_clip_end_file_path)\n",
    "clip_arrays = np.split(qpos_data, np.cumsum(new_clip_lengths_ends[:,0])[:-1])\n",
    "ik_for_comparision = np.concatenate([arr[initial_repeat:][::increase_freq] for arr in clip_arrays],axis=0)\n",
    "assert ik_for_comparision.shape[0] == clip_lengths_and_ends[nclips-1][1], \"ik_for_comparision and original_clip_len do not match\"\n",
    "ik_for_comparision = {'qpos': ik_for_comparision.astype(np.float32)}"
   ]
  },
  {
   "cell_type": "code",
   "execution_count": null,
   "id": "297dbbe2",
   "metadata": {},
   "outputs": [],
   "source": [
    "with open('../dataset/imitation_train_data_for_comparision.pkl', 'wb') as f:\n",
    "    pickle.dump(ik_for_comparision, f)"
   ]
  },
  {
   "cell_type": "code",
   "execution_count": null,
   "id": "6a8da003",
   "metadata": {},
   "outputs": [],
   "source": []
  },
  {
   "cell_type": "code",
   "execution_count": null,
   "id": "b7a9e456",
   "metadata": {},
   "outputs": [],
   "source": [
    "# After seeing the IK images , select the start frames of each clip ( so that its a stable start frame)"
   ]
  },
  {
   "cell_type": "code",
   "execution_count": null,
   "id": "9eadd05a",
   "metadata": {},
   "outputs": [],
   "source": [
    "\n",
    "len_arr  = np.load('../dataset/all_lengths.npy')  \n",
    "start_points = [0,205,386,489,654,694,783,915,1089,1310,1528,1798,1889,2014,2082,2159,2243,2397,2565,2800,3058,3155,3338,3401,3520,3699,3834,4053,4165,4370,4551,4654,4819,4859,4948,5080,5254,5475,5693,5963,6054,6179,6247,6324,6408,6562,6730,6965,7223,7320,7503,7566,7685,7864,7999,8218]\n",
    "start_points = np.array(start_points)\n",
    "len_arr = np.concatenate((len_arr,start_points.reshape(-1,1)),axis=1)\n",
    "print(len_arr.shape, \"this has all the lengths and start points(3rd column)\")\n",
    "np.save('../dataset/all_lengths_final.npy',len_arr)\n",
    "print(len_arr)"
   ]
  },
  {
   "cell_type": "code",
   "execution_count": null,
   "id": "7e1ba6cd",
   "metadata": {},
   "outputs": [],
   "source": []
  }
 ],
 "metadata": {
  "kernelspec": {
   "display_name": "Python 3 (ipykernel)",
   "language": "python",
   "name": "python3"
  },
  "language_info": {
   "codemirror_mode": {
    "name": "ipython",
    "version": 3
   },
   "file_extension": ".py",
   "mimetype": "text/x-python",
   "name": "python",
   "nbconvert_exporter": "python",
   "pygments_lexer": "ipython3",
   "version": "3.9.18"
  }
 },
 "nbformat": 4,
 "nbformat_minor": 5
}
